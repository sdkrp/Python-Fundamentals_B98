{
 "cells": [
  {
   "cell_type": "code",
   "execution_count": null,
   "id": "7f9e25d3-666b-42da-b222-ceb1ac394110",
   "metadata": {},
   "outputs": [],
   "source": [
    "Understanding the variables in Python"
   ]
  },
  {
   "cell_type": "code",
   "execution_count": 2,
   "id": "7177547e-8081-4f54-ab49-f23ffed34a7e",
   "metadata": {},
   "outputs": [
    {
     "name": "stdout",
     "output_type": "stream",
     "text": [
      "5\n"
     ]
    }
   ],
   "source": [
    "a =3\n",
    "\n",
    "b=2\n",
    "\n",
    "c=a+b\n",
    "\n",
    "print (c)"
   ]
  },
  {
   "cell_type": "code",
   "execution_count": null,
   "id": "4d23cf3e-a245-4722-b4b2-0262e5a0a072",
   "metadata": {},
   "outputs": [],
   "source": [
    "Rules for declaring varibale in python\n"
   ]
  },
  {
   "cell_type": "code",
   "execution_count": null,
   "id": "ec922820-a94c-4ac9-a625-44f87ae06926",
   "metadata": {},
   "outputs": [],
   "source": [
    "Rule no1: No namespaces for declaring the varible names"
   ]
  },
  {
   "cell_type": "code",
   "execution_count": 3,
   "id": "c67daea5-cf65-4933-829b-4b08254b5e18",
   "metadata": {},
   "outputs": [
    {
     "ename": "SyntaxError",
     "evalue": "invalid syntax (1686534093.py, line 1)",
     "output_type": "error",
     "traceback": [
      "\u001b[1;36m  Cell \u001b[1;32mIn[3], line 1\u001b[1;36m\u001b[0m\n\u001b[1;33m    first name=\"Dhanush\"\u001b[0m\n\u001b[1;37m          ^\u001b[0m\n\u001b[1;31mSyntaxError\u001b[0m\u001b[1;31m:\u001b[0m invalid syntax\n"
     ]
    }
   ],
   "source": [
    "first name=\"Dhanush\"\n",
    "\n",
    "print(first name)"
   ]
  },
  {
   "cell_type": "code",
   "execution_count": 4,
   "id": "95e9351d-be73-4379-b033-71e63d09a002",
   "metadata": {},
   "outputs": [
    {
     "name": "stdout",
     "output_type": "stream",
     "text": [
      "firstname\n"
     ]
    }
   ],
   "source": [
    "firstname=\"Dhanush\"\n",
    "print(\"firstname\")"
   ]
  },
  {
   "cell_type": "code",
   "execution_count": 5,
   "id": "a2dff6c5-96cb-40a5-86be-f873d906eaa7",
   "metadata": {},
   "outputs": [
    {
     "name": "stdout",
     "output_type": "stream",
     "text": [
      "Dhanush\n"
     ]
    }
   ],
   "source": [
    "print(firstname)"
   ]
  },
  {
   "cell_type": "code",
   "execution_count": 6,
   "id": "3917c1fe-c9d1-44e5-910d-5de1e2322530",
   "metadata": {},
   "outputs": [
    {
     "ename": "SyntaxError",
     "evalue": "invalid decimal literal (4152947332.py, line 3)",
     "output_type": "error",
     "traceback": [
      "\u001b[1;36m  Cell \u001b[1;32mIn[6], line 3\u001b[1;36m\u001b[0m\n\u001b[1;33m    1name=\"kodi\"\u001b[0m\n\u001b[1;37m    ^\u001b[0m\n\u001b[1;31mSyntaxError\u001b[0m\u001b[1;31m:\u001b[0m invalid decimal literal\n"
     ]
    }
   ],
   "source": [
    "Rule No2: A variable name should not start with number\n",
    "\n",
    "1name=\"kodi\"\n",
    "\n",
    "print(1name)"
   ]
  },
  {
   "cell_type": "code",
   "execution_count": 7,
   "id": "66d95bd9-c1eb-4a0b-9903-fb018330149b",
   "metadata": {},
   "outputs": [
    {
     "ename": "SyntaxError",
     "evalue": "invalid syntax (3354493504.py, line 1)",
     "output_type": "error",
     "traceback": [
      "\u001b[1;36m  Cell \u001b[1;32mIn[7], line 1\u001b[1;36m\u001b[0m\n\u001b[1;33m    Rule no3: A variable name shoould not contain any special charaters\u001b[0m\n\u001b[1;37m         ^\u001b[0m\n\u001b[1;31mSyntaxError\u001b[0m\u001b[1;31m:\u001b[0m invalid syntax\n"
     ]
    }
   ],
   "source": [
    "Rule no3: A variable name shoould not contain any special charaters\n",
    "\n",
    "Name@=\"Rama\"\n",
    "\n",
    "print(name@)"
   ]
  },
  {
   "cell_type": "code",
   "execution_count": null,
   "id": "7b884b68-fd28-4f36-8ee0-75cd1ac78063",
   "metadata": {},
   "outputs": [],
   "source": [
    "Introduction to Data types in Python\n",
    "\n",
    "Strings ======> str\n",
    "\n",
    "Numbers =======> Integers -> int, floats(decimal)\n",
    "\n",
    "Lists ====> list\n",
    "\n",
    "tuples ====> tuple\n",
    "\n",
    "Dictionaries ====> dict"
   ]
  },
  {
   "cell_type": "code",
   "execution_count": null,
   "id": "f17deb13-f80b-4476-8413-2fc376e99b0e",
   "metadata": {},
   "outputs": [],
   "source": [
    "Classification of data types\n",
    "\n",
    "Broadly data types are classified into two categories\n",
    "\n",
    "1. Mutable -> can be able to edit / alter\n",
    "\n",
    "2. Immutable -> cannot be edit / alter\n",
    "\n"
   ]
  },
  {
   "cell_type": "code",
   "execution_count": 8,
   "id": "b18ec5dd-303d-4c1f-b269-06e7c511c60d",
   "metadata": {},
   "outputs": [
    {
     "ename": "SyntaxError",
     "evalue": "invalid syntax (4046181989.py, line 1)",
     "output_type": "error",
     "traceback": [
      "\u001b[1;36m  Cell \u001b[1;32mIn[8], line 1\u001b[1;36m\u001b[0m\n\u001b[1;33m    Introduction to String datatypes\u001b[0m\n\u001b[1;37m                 ^\u001b[0m\n\u001b[1;31mSyntaxError\u001b[0m\u001b[1;31m:\u001b[0m invalid syntax\n"
     ]
    }
   ],
   "source": [
    "Introduction to String datatypes\n",
    "\n",
    "definition : A String is a series of characters declared in quotes\n",
    "\n",
    "classification : it is classified as an immutable datatype\n",
    "\n",
    "1. single quote\n",
    "\n",
    "2. double quotes\n",
    "\n",
    "name='kodi'\n",
    "\n",
    "print (name)"
   ]
  },
  {
   "cell_type": "code",
   "execution_count": 9,
   "id": "4523cd71-75aa-4ec4-85ac-b56d92e17e2d",
   "metadata": {},
   "outputs": [
    {
     "name": "stdout",
     "output_type": "stream",
     "text": [
      "kodi\n"
     ]
    }
   ],
   "source": [
    "name ='kodi'\n",
    "\n",
    "print(name)"
   ]
  },
  {
   "cell_type": "code",
   "execution_count": null,
   "id": "020b1cab-09a7-4d80-bb4e-22c1e263eec0",
   "metadata": {},
   "outputs": [],
   "source": []
  }
 ],
 "metadata": {
  "kernelspec": {
   "display_name": "Python [conda env:base] *",
   "language": "python",
   "name": "conda-base-py"
  },
  "language_info": {
   "codemirror_mode": {
    "name": "ipython",
    "version": 3
   },
   "file_extension": ".py",
   "mimetype": "text/x-python",
   "name": "python",
   "nbconvert_exporter": "python",
   "pygments_lexer": "ipython3",
   "version": "3.13.5"
  }
 },
 "nbformat": 4,
 "nbformat_minor": 5
}
