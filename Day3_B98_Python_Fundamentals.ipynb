{
 "cells": [
  {
   "cell_type": "code",
   "execution_count": null,
   "id": "fa78081e-5c18-4284-8ff1-e7596d400326",
   "metadata": {},
   "outputs": [],
   "source": [
    "Continutaion owith String data type"
   ]
  },
  {
   "cell_type": "code",
   "execution_count": 1,
   "id": "38291632-45e6-4b57-9151-a44c284a16c4",
   "metadata": {},
   "outputs": [
    {
     "name": "stdout",
     "output_type": "stream",
     "text": [
      "umaiyal\n"
     ]
    }
   ],
   "source": [
    "name =\"umaiyal\"\n",
    "\n",
    "print(name)"
   ]
  },
  {
   "cell_type": "code",
   "execution_count": 2,
   "id": "8b4f5daa-9d60-458c-a2d8-96ec776ce65c",
   "metadata": {},
   "outputs": [
    {
     "name": "stdout",
     "output_type": "stream",
     "text": [
      "Umaiyal Nachiyar\n"
     ]
    }
   ],
   "source": [
    "fullname=\"Umaiyal Nachiyar\"\n",
    "\n",
    "print(fullname)"
   ]
  },
  {
   "cell_type": "code",
   "execution_count": 3,
   "id": "53401107-5518-4b22-a572-3427a4e5a1ed",
   "metadata": {},
   "outputs": [
    {
     "name": "stdout",
     "output_type": "stream",
     "text": [
      "umaiyal nachiyar\n"
     ]
    }
   ],
   "source": [
    "fullname =\"umaiyal nachiyar\"\n",
    "\n",
    "print(fullname)"
   ]
  },
  {
   "cell_type": "raw",
   "id": "de2a897d-79d0-4540-8782-65e13534509a",
   "metadata": {},
   "source": [
    "print(fullname.title())\n"
   ]
  },
  {
   "cell_type": "code",
   "execution_count": 4,
   "id": "de50d515-91bc-4007-9bbb-7307045d616e",
   "metadata": {},
   "outputs": [
    {
     "name": "stdout",
     "output_type": "stream",
     "text": [
      "Umaiyal Nachiyar\n"
     ]
    }
   ],
   "source": [
    "fullname =\"umaiyal nachiyar\"\n",
    "\n",
    "print(fullname.title())\n"
   ]
  },
  {
   "cell_type": "code",
   "execution_count": 5,
   "id": "957c99aa-6e8a-4d73-aea8-ab7c9a1e941b",
   "metadata": {},
   "outputs": [
    {
     "name": "stdout",
     "output_type": "stream",
     "text": [
      "UMAIYAL NACHIYAR\n"
     ]
    }
   ],
   "source": [
    "print(fullname.upper())"
   ]
  },
  {
   "cell_type": "code",
   "execution_count": 6,
   "id": "619b4272-3a61-42de-bffc-a6df729ce5c1",
   "metadata": {},
   "outputs": [
    {
     "name": "stdout",
     "output_type": "stream",
     "text": [
      "umaiyal nachiyar\n"
     ]
    }
   ],
   "source": [
    "print(fullname.lower())\n"
   ]
  },
  {
   "cell_type": "code",
   "execution_count": 7,
   "id": "82a83938-7c41-4d52-824d-91878ac57baa",
   "metadata": {},
   "outputs": [
    {
     "ename": "SyntaxError",
     "evalue": "invalid syntax (18049794.py, line 1)",
     "output_type": "error",
     "traceback": [
      "\u001b[1;36m  Cell \u001b[1;32mIn[7], line 1\u001b[1;36m\u001b[0m\n\u001b[1;33m    Intorduction to f strings:\u001b[0m\n\u001b[1;37m                 ^\u001b[0m\n\u001b[1;31mSyntaxError\u001b[0m\u001b[1;31m:\u001b[0m invalid syntax\n"
     ]
    }
   ],
   "source": [
    "Intorduction to f strings:\n",
    "\n",
    "General syntax of f Strings:\n",
    "\n",
    "f\"custome_message(placeholder1) (placeholder2).........(placeholdern)\"\n",
    "\n",
    "\n",
    "fisrtname=\"Rathinavel\"\n",
    "\n",
    "lastname=\"pandian\"\n",
    "\n",
    "# i want get the fullname\n",
    "\n",
    "fullname=f\"(fisrtname)(lastname)"
   ]
  },
  {
   "cell_type": "code",
   "execution_count": 8,
   "id": "76127253-7c0a-4ebe-9cd2-287374ae8fe3",
   "metadata": {},
   "outputs": [],
   "source": [
    "fullname= f\"(firstname) (lastname)\""
   ]
  },
  {
   "cell_type": "code",
   "execution_count": 9,
   "id": "579bb9a1-7060-45b9-a70e-67c6a1b1f784",
   "metadata": {},
   "outputs": [],
   "source": [
    "fisrtname=\"Rathinavel\"\n",
    "\n",
    "lastname=\"pandian\"\n",
    "\n",
    "fullname= f\"(firstname) (lastname)\""
   ]
  },
  {
   "cell_type": "code",
   "execution_count": 10,
   "id": "16bb4091-6f56-4dfb-9142-88a9a25c3a1d",
   "metadata": {},
   "outputs": [
    {
     "name": "stdout",
     "output_type": "stream",
     "text": [
      "(firstname) (lastname)\n"
     ]
    }
   ],
   "source": [
    "print(fullname)"
   ]
  },
  {
   "cell_type": "code",
   "execution_count": 11,
   "id": "416a45bb-1a20-4aa1-801b-f821eac4e52d",
   "metadata": {},
   "outputs": [
    {
     "name": "stdout",
     "output_type": "stream",
     "text": [
      "(firstname) (lastname)\n"
     ]
    }
   ],
   "source": [
    "fisrtname=\"Rathinavel\"\n",
    "\n",
    "lastname=\"pandian\"\n",
    "\n",
    "fullname= f\"(firstname) (lastname)\"\n",
    "\n",
    "print(fullname)"
   ]
  },
  {
   "cell_type": "code",
   "execution_count": 14,
   "id": "4d7668ef-5649-4890-9331-fd81c073cead",
   "metadata": {},
   "outputs": [
    {
     "name": "stdout",
     "output_type": "stream",
     "text": [
      "Rathinavel pandian\n"
     ]
    }
   ],
   "source": [
    "fisrtname=\"Rathinavel\"\n",
    "\n",
    "lastname=\"pandian\"\n",
    "\n",
    "fullname= f\"{firstname} {lastname}\"\n",
    "\n",
    "print(fullname)"
   ]
  },
  {
   "cell_type": "code",
   "execution_count": 18,
   "id": "46cdc11b-dc12-4ee8-8844-472bd8166816",
   "metadata": {},
   "outputs": [
    {
     "name": "stdout",
     "output_type": "stream",
     "text": [
      " keep up the good work,Rathinavel Pandian\n"
     ]
    }
   ],
   "source": [
    "message = f\" keep up the good work,{fullname.title()}\"\n",
    "\n",
    "print(message)"
   ]
  },
  {
   "cell_type": "code",
   "execution_count": 19,
   "id": "c6444a5a-8c30-40ec-9428-9d4da8c0fb0c",
   "metadata": {},
   "outputs": [
    {
     "ename": "SyntaxError",
     "evalue": "unterminated string literal (detected at line 3) (1563067030.py, line 3)",
     "output_type": "error",
     "traceback": [
      "\u001b[1;36m  Cell \u001b[1;32mIn[19], line 3\u001b[1;36m\u001b[0m\n\u001b[1;33m    print(\"favourite_programming:Pythonjavac++)\u001b[0m\n\u001b[1;37m          ^\u001b[0m\n\u001b[1;31mSyntaxError\u001b[0m\u001b[1;31m:\u001b[0m unterminated string literal (detected at line 3)\n"
     ]
    }
   ],
   "source": [
    "# Adding whitespacs to strings\n",
    "\n",
    "print(\"favourite_programming:Pythonjavac++)"
   ]
  },
  {
   "cell_type": "code",
   "execution_count": 20,
   "id": "399ad35a-70ab-4065-9134-ed8828c523f0",
   "metadata": {},
   "outputs": [
    {
     "name": "stdout",
     "output_type": "stream",
     "text": [
      "favourite_programming:Pythonjavac++\n"
     ]
    }
   ],
   "source": [
    "print(\"favourite_programming:Pythonjavac++\")"
   ]
  },
  {
   "cell_type": "code",
   "execution_count": 21,
   "id": "f2ebeb04-8c9b-458a-867f-24aee55c827f",
   "metadata": {},
   "outputs": [
    {
     "name": "stdout",
     "output_type": "stream",
     "text": [
      "favourite_programming:\n",
      "Python\n",
      "java\n",
      "c++\n"
     ]
    }
   ],
   "source": [
    "print(\"favourite_programming:\\nPython\\njava\\nc++\")"
   ]
  },
  {
   "cell_type": "code",
   "execution_count": null,
   "id": "b435be97-50d5-4689-b459-5ff3100ab63a",
   "metadata": {},
   "outputs": [],
   "source": [
    "print(\"favourite_programming:\\n\\tPython\\n\\tjava\\n\\tc++\")"
   ]
  }
 ],
 "metadata": {
  "kernelspec": {
   "display_name": "Python [conda env:base] *",
   "language": "python",
   "name": "conda-base-py"
  },
  "language_info": {
   "codemirror_mode": {
    "name": "ipython",
    "version": 3
   },
   "file_extension": ".py",
   "mimetype": "text/x-python",
   "name": "python",
   "nbconvert_exporter": "python",
   "pygments_lexer": "ipython3",
   "version": "3.13.5"
  }
 },
 "nbformat": 4,
 "nbformat_minor": 5
}
